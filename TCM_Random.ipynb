{
 "cells": [
  {
   "cell_type": "code",
   "execution_count": 1,
   "id": "41734252-9099-40da-8b7a-797f95fabe19",
   "metadata": {},
   "outputs": [
    {
     "name": "stderr",
     "output_type": "stream",
     "text": [
      "/Users/crystalbravo/opt/anaconda3/lib/python3.9/site-packages/pandas/core/computation/expressions.py:21: UserWarning: Pandas requires version '2.8.4' or newer of 'numexpr' (version '2.8.3' currently installed).\n",
      "  from pandas.core.computation.check import NUMEXPR_INSTALLED\n",
      "/Users/crystalbravo/opt/anaconda3/lib/python3.9/site-packages/pandas/core/arrays/masked.py:60: UserWarning: Pandas requires version '1.3.6' or newer of 'bottleneck' (version '1.3.5' currently installed).\n",
      "  from pandas.core import (\n"
     ]
    }
   ],
   "source": [
    "import pandas as pd\n",
    "import numpy as np"
   ]
  },
  {
   "cell_type": "markdown",
   "id": "a132c660-c7be-406f-8898-f3028a288a81",
   "metadata": {},
   "source": [
    "### Create Datasource"
   ]
  },
  {
   "cell_type": "code",
   "execution_count": 2,
   "id": "7f40c037-6056-4454-82a4-fe63a3ea221e",
   "metadata": {},
   "outputs": [],
   "source": [
    "n = 26\n",
    "idx = np.arange(n)"
   ]
  },
  {
   "cell_type": "markdown",
   "id": "106dc652-86c3-41ff-bd6a-a11a0bcc524b",
   "metadata": {},
   "source": [
    "### Shuffle indexs"
   ]
  },
  {
   "cell_type": "code",
   "execution_count": 4,
   "id": "1d1bf774-c2c9-43f6-9c01-47a5dfbe312e",
   "metadata": {},
   "outputs": [],
   "source": [
    "np.random.shuffle(idx)"
   ]
  },
  {
   "cell_type": "code",
   "execution_count": 5,
   "id": "77db1611-f954-4191-9968-e4406a2c9ba5",
   "metadata": {},
   "outputs": [
    {
     "data": {
      "text/plain": [
       "array([22,  0, 12,  2, 17, 25, 21,  4, 11,  3,  6, 16,  5, 24, 18,  7, 14,\n",
       "       10,  8, 19, 15, 20,  1,  9, 13, 23])"
      ]
     },
     "execution_count": 5,
     "metadata": {},
     "output_type": "execute_result"
    }
   ],
   "source": [
    "idx\n"
   ]
  },
  {
   "cell_type": "markdown",
   "id": "45bd700c-076f-4c4c-9f36-92956825bf6a",
   "metadata": {},
   "source": [
    "### Get first nth elements"
   ]
  },
  {
   "cell_type": "code",
   "execution_count": 19,
   "id": "22fa5c08-1206-471f-ac44-92c8cceab2ca",
   "metadata": {},
   "outputs": [],
   "source": [
    "nth = 5"
   ]
  },
  {
   "cell_type": "code",
   "execution_count": 7,
   "id": "90d33eb0-e1ad-4e87-bb65-5c582125337b",
   "metadata": {},
   "outputs": [
    {
     "data": {
      "text/plain": [
       "array([22,  0, 12,  2, 17])"
      ]
     },
     "execution_count": 7,
     "metadata": {},
     "output_type": "execute_result"
    }
   ],
   "source": [
    "test = idx[:nth]\n",
    "test"
   ]
  },
  {
   "cell_type": "markdown",
   "id": "6a12e531-824a-41c7-b34f-a5255bca8369",
   "metadata": {},
   "source": [
    "### int to char"
   ]
  },
  {
   "cell_type": "code",
   "execution_count": 8,
   "id": "5ebde60c-5315-4522-a162-a8a010263209",
   "metadata": {},
   "outputs": [
    {
     "data": {
      "text/plain": [
       "array([119,  97, 109,  99, 114])"
      ]
     },
     "execution_count": 8,
     "metadata": {},
     "output_type": "execute_result"
    }
   ],
   "source": [
    "test = test + ord('a')\n",
    "test"
   ]
  },
  {
   "cell_type": "code",
   "execution_count": 18,
   "id": "64712079-0119-487c-8a0a-a22a5355045f",
   "metadata": {},
   "outputs": [
    {
     "data": {
      "text/plain": [
       "['w', 'a', 'm', 'c', 'r']"
      ]
     },
     "execution_count": 18,
     "metadata": {},
     "output_type": "execute_result"
    }
   ],
   "source": [
    "test_ch = list(map(lambda n: chr(n), test))\n",
    "test_ch"
   ]
  },
  {
   "cell_type": "code",
   "execution_count": 22,
   "id": "5da0a58c-db5d-4d14-8bcf-4db611bfe263",
   "metadata": {},
   "outputs": [],
   "source": [
    "sourceFile = \"Accupunture_Points.csv\""
   ]
  },
  {
   "cell_type": "code",
   "execution_count": 30,
   "id": "eb997974-2596-41c3-b2a2-cdb43fb38841",
   "metadata": {},
   "outputs": [],
   "source": [
    "dataframe1 = pd.read_csv(sourceFile,header=None)"
   ]
  },
  {
   "cell_type": "code",
   "execution_count": 31,
   "id": "3d497227-9bb3-415c-8ddb-3a0abc078cb3",
   "metadata": {},
   "outputs": [
    {
     "data": {
      "text/html": [
       "<div>\n",
       "<style scoped>\n",
       "    .dataframe tbody tr th:only-of-type {\n",
       "        vertical-align: middle;\n",
       "    }\n",
       "\n",
       "    .dataframe tbody tr th {\n",
       "        vertical-align: top;\n",
       "    }\n",
       "\n",
       "    .dataframe thead th {\n",
       "        text-align: right;\n",
       "    }\n",
       "</style>\n",
       "<table border=\"1\" class=\"dataframe\">\n",
       "  <thead>\n",
       "    <tr style=\"text-align: right;\">\n",
       "      <th></th>\n",
       "      <th>0</th>\n",
       "      <th>1</th>\n",
       "      <th>2</th>\n",
       "    </tr>\n",
       "  </thead>\n",
       "  <tbody>\n",
       "    <tr>\n",
       "      <th>0</th>\n",
       "      <td>LU01</td>\n",
       "      <td>LU-01</td>\n",
       "      <td>中府</td>\n",
       "    </tr>\n",
       "    <tr>\n",
       "      <th>1</th>\n",
       "      <td>LU02</td>\n",
       "      <td>LU-02</td>\n",
       "      <td>雲門</td>\n",
       "    </tr>\n",
       "    <tr>\n",
       "      <th>2</th>\n",
       "      <td>LU03</td>\n",
       "      <td>LU-03</td>\n",
       "      <td>天府</td>\n",
       "    </tr>\n",
       "    <tr>\n",
       "      <th>3</th>\n",
       "      <td>LU04</td>\n",
       "      <td>LU-04</td>\n",
       "      <td>俠白</td>\n",
       "    </tr>\n",
       "    <tr>\n",
       "      <th>4</th>\n",
       "      <td>LU05</td>\n",
       "      <td>LU-05</td>\n",
       "      <td>尺澤</td>\n",
       "    </tr>\n",
       "  </tbody>\n",
       "</table>\n",
       "</div>"
      ],
      "text/plain": [
       "      0      1   2\n",
       "0  LU01  LU-01  中府\n",
       "1  LU02  LU-02  雲門\n",
       "2  LU03  LU-03  天府\n",
       "3  LU04  LU-04  俠白\n",
       "4  LU05  LU-05  尺澤"
      ]
     },
     "execution_count": 31,
     "metadata": {},
     "output_type": "execute_result"
    }
   ],
   "source": [
    "dataframe1.head()"
   ]
  },
  {
   "cell_type": "code",
   "execution_count": 47,
   "id": "7f34de61-4727-4ec0-9815-39bfd273119b",
   "metadata": {},
   "outputs": [
    {
     "data": {
      "text/html": [
       "<div>\n",
       "<style scoped>\n",
       "    .dataframe tbody tr th:only-of-type {\n",
       "        vertical-align: middle;\n",
       "    }\n",
       "\n",
       "    .dataframe tbody tr th {\n",
       "        vertical-align: top;\n",
       "    }\n",
       "\n",
       "    .dataframe thead th {\n",
       "        text-align: right;\n",
       "    }\n",
       "</style>\n",
       "<table border=\"1\" class=\"dataframe\">\n",
       "  <thead>\n",
       "    <tr style=\"text-align: right;\">\n",
       "      <th></th>\n",
       "      <th>no</th>\n",
       "      <th>name</th>\n",
       "    </tr>\n",
       "  </thead>\n",
       "  <tbody>\n",
       "    <tr>\n",
       "      <th>0</th>\n",
       "      <td>LU-01</td>\n",
       "      <td>中府</td>\n",
       "    </tr>\n",
       "    <tr>\n",
       "      <th>1</th>\n",
       "      <td>LU-02</td>\n",
       "      <td>雲門</td>\n",
       "    </tr>\n",
       "    <tr>\n",
       "      <th>2</th>\n",
       "      <td>LU-03</td>\n",
       "      <td>天府</td>\n",
       "    </tr>\n",
       "    <tr>\n",
       "      <th>3</th>\n",
       "      <td>LU-04</td>\n",
       "      <td>俠白</td>\n",
       "    </tr>\n",
       "    <tr>\n",
       "      <th>4</th>\n",
       "      <td>LU-05</td>\n",
       "      <td>尺澤</td>\n",
       "    </tr>\n",
       "  </tbody>\n",
       "</table>\n",
       "</div>"
      ],
      "text/plain": [
       "      no name\n",
       "0  LU-01   中府\n",
       "1  LU-02   雲門\n",
       "2  LU-03   天府\n",
       "3  LU-04   俠白\n",
       "4  LU-05   尺澤"
      ]
     },
     "execution_count": 47,
     "metadata": {},
     "output_type": "execute_result"
    }
   ],
   "source": [
    "dataframe = dataframe1[[1,2]]\n",
    "dataframe = dataframe.rename(columns={1: \"no\", 2: \"name\"})\n",
    "dataframe.head()"
   ]
  },
  {
   "cell_type": "markdown",
   "id": "e89271e1-0715-48dd-8927-5f23930addb6",
   "metadata": {},
   "source": [
    "### dataframe to dictionary"
   ]
  },
  {
   "cell_type": "code",
   "execution_count": 48,
   "id": "3992ec99-0999-4940-8284-8cf3095a085e",
   "metadata": {},
   "outputs": [
    {
     "data": {
      "text/plain": [
       "[{'no': 'LU-01', 'name': '中府'},\n",
       " {'no': 'LU-02', 'name': '雲門'},\n",
       " {'no': 'LU-03', 'name': '天府'},\n",
       " {'no': 'LU-04', 'name': '俠白'},\n",
       " {'no': 'LU-05', 'name': '尺澤'},\n",
       " {'no': 'LU-06', 'name': '孔最'},\n",
       " {'no': 'LU-07', 'name': '列缺'},\n",
       " {'no': 'LU-08', 'name': '經渠'},\n",
       " {'no': 'LU-09', 'name': '太淵'},\n",
       " {'no': 'LU-10', 'name': '魚際'},\n",
       " {'no': 'LU-11', 'name': '少商'},\n",
       " {'no': 'LI-01', 'name': '商陽'},\n",
       " {'no': 'LI-02', 'name': '二間'},\n",
       " {'no': 'LI-03', 'name': '三間'},\n",
       " {'no': 'LI-04', 'name': '合谷'},\n",
       " {'no': 'LI-05', 'name': '陽谿'},\n",
       " {'no': 'LI-06', 'name': '偏歷'},\n",
       " {'no': 'LI-07', 'name': '溫溜'},\n",
       " {'no': 'LI-08', 'name': '下臁'},\n",
       " {'no': 'LI-09', 'name': '上臁'},\n",
       " {'no': 'LI-10', 'name': '手三里'},\n",
       " {'no': 'LI-11', 'name': '曲池'},\n",
       " {'no': 'LI-12', 'name': '肘髎'},\n",
       " {'no': 'LI-13', 'name': '手五里'},\n",
       " {'no': 'LI-14', 'name': '臂臑'},\n",
       " {'no': 'LI-15', 'name': '肩骨禺'},\n",
       " {'no': 'LI-16', 'name': '巨骨'},\n",
       " {'no': 'LI-17', 'name': '天鼎'},\n",
       " {'no': 'LI-18', 'name': '扶突'},\n",
       " {'no': 'LI-19', 'name': '禾髎'},\n",
       " {'no': 'LI-20', 'name': '迎香'},\n",
       " {'no': 'ST-01', 'name': '承泣'},\n",
       " {'no': 'ST-02', 'name': '四白'},\n",
       " {'no': 'ST-03', 'name': '巨髎'},\n",
       " {'no': 'ST-04', 'name': '地倉'},\n",
       " {'no': 'ST-05', 'name': '大迎'},\n",
       " {'no': 'ST-06', 'name': '頰車'},\n",
       " {'no': 'ST-07', 'name': '下關'},\n",
       " {'no': 'ST-08', 'name': '頭維'},\n",
       " {'no': 'ST-09', 'name': '人迎'},\n",
       " {'no': 'ST-10', 'name': '水突'},\n",
       " {'no': 'ST-11', 'name': '氣舍'},\n",
       " {'no': 'ST-12', 'name': '缺盆'},\n",
       " {'no': 'ST-13', 'name': '氣戶'},\n",
       " {'no': 'ST-14', 'name': '庫房'},\n",
       " {'no': 'ST-15', 'name': '屋翳'},\n",
       " {'no': 'ST-16', 'name': '膺窗'},\n",
       " {'no': 'ST-17', 'name': '乳中'},\n",
       " {'no': 'ST-18', 'name': '乳根'},\n",
       " {'no': 'ST-19', 'name': '不容'},\n",
       " {'no': 'ST-20', 'name': '承滿'},\n",
       " {'no': 'ST-21', 'name': '梁門'},\n",
       " {'no': 'ST-22', 'name': '關門'},\n",
       " {'no': 'ST-23', 'name': '太乙'},\n",
       " {'no': 'ST-24', 'name': '滑肉門'},\n",
       " {'no': 'ST-25', 'name': '天樞'},\n",
       " {'no': 'ST-26', 'name': '外陵'},\n",
       " {'no': 'ST-27', 'name': '大巨'},\n",
       " {'no': 'ST-28', 'name': '水道'},\n",
       " {'no': 'ST-29', 'name': '歸來'},\n",
       " {'no': 'ST-30', 'name': '氣衝'},\n",
       " {'no': 'ST-31', 'name': '髀關'},\n",
       " {'no': 'ST-32', 'name': '伏兔'},\n",
       " {'no': 'ST-33', 'name': '陰市'},\n",
       " {'no': 'ST-34', 'name': '梁丘'},\n",
       " {'no': 'ST-35', 'name': '犢鼻'},\n",
       " {'no': 'ST-36', 'name': '足三里'},\n",
       " {'no': 'ST-37', 'name': '上巨虛'},\n",
       " {'no': 'ST-38', 'name': '條口'},\n",
       " {'no': 'ST-39', 'name': '下巨虛'},\n",
       " {'no': 'ST-40', 'name': '豐隆'},\n",
       " {'no': 'ST-41', 'name': '解谿'},\n",
       " {'no': 'ST-42', 'name': '衝陽'},\n",
       " {'no': 'ST-43', 'name': '陷谷'},\n",
       " {'no': 'ST-44', 'name': '內庭'},\n",
       " {'no': 'ST-45', 'name': '厲兌'},\n",
       " {'no': 'SP-01', 'name': '隱白'},\n",
       " {'no': 'SP-02', 'name': '大都'},\n",
       " {'no': 'SP-03', 'name': '太白'},\n",
       " {'no': 'SP-04', 'name': '公孫'},\n",
       " {'no': 'SP-05', 'name': '商丘'},\n",
       " {'no': 'SP-06', 'name': '三陰交'},\n",
       " {'no': 'SP-07', 'name': '漏谷'},\n",
       " {'no': 'SP-08', 'name': '地機'},\n",
       " {'no': 'SP-09', 'name': '陰陵泉'},\n",
       " {'no': 'SP-10', 'name': '血海'},\n",
       " {'no': 'SP-11', 'name': '箕門'},\n",
       " {'no': 'SP-12', 'name': '衝門'},\n",
       " {'no': 'SP-13', 'name': '府舍'},\n",
       " {'no': 'SP-14', 'name': '腹結'},\n",
       " {'no': 'SP-15', 'name': '大橫'},\n",
       " {'no': 'SP-16', 'name': '腹哀'},\n",
       " {'no': 'SP-17', 'name': '食竇'},\n",
       " {'no': 'SP-18', 'name': '天谿'},\n",
       " {'no': 'SP-19', 'name': '胸鄉'},\n",
       " {'no': 'SP-20', 'name': '周榮'},\n",
       " {'no': 'SP-21', 'name': '大包'}]"
      ]
     },
     "execution_count": 48,
     "metadata": {},
     "output_type": "execute_result"
    }
   ],
   "source": [
    "df= dataframe.to_dict('records')\n",
    "df"
   ]
  },
  {
   "cell_type": "code",
   "execution_count": 54,
   "id": "38ca0e55-226f-4a3e-b612-093b2120bc04",
   "metadata": {},
   "outputs": [],
   "source": [
    "n = len(df)\n",
    "idx = np.arange(n)"
   ]
  },
  {
   "cell_type": "markdown",
   "id": "bbe2fe53-c918-41ae-afd0-aa074ce61ae1",
   "metadata": {},
   "source": [
    "### Show testing items"
   ]
  },
  {
   "cell_type": "code",
   "execution_count": 57,
   "id": "f8a0af2f-ffc8-4c00-9a56-3eb5801b2ca4",
   "metadata": {},
   "outputs": [
    {
     "name": "stdout",
     "output_type": "stream",
     "text": [
      "ST-43\n",
      "SP-02\n",
      "ST-06\n",
      "LI-15\n",
      "ST-27\n"
     ]
    }
   ],
   "source": [
    "np.random.shuffle(idx)\n",
    "tests = idx[:nth]\n",
    "for i in tests:\n",
    "    print(df[i][\"no\"])"
   ]
  },
  {
   "cell_type": "markdown",
   "id": "c69af179-3733-4921-8043-6305979081ac",
   "metadata": {},
   "source": [
    "### Show testing item names"
   ]
  },
  {
   "cell_type": "code",
   "execution_count": 56,
   "id": "ceee4311-b584-4114-a867-ea0ab043b109",
   "metadata": {},
   "outputs": [
    {
     "name": "stdout",
     "output_type": "stream",
     "text": [
      "府舍\n",
      "天谿\n",
      "衝陽\n",
      "梁丘\n",
      "迎香\n"
     ]
    }
   ],
   "source": [
    "for i in tests:\n",
    "    print(df[i][\"name\"])"
   ]
  },
  {
   "cell_type": "code",
   "execution_count": null,
   "id": "a0afb017-0747-4f18-a932-883e23d106be",
   "metadata": {},
   "outputs": [],
   "source": []
  }
 ],
 "metadata": {
  "kernelspec": {
   "display_name": "Python 3 (ipykernel)",
   "language": "python",
   "name": "python3"
  },
  "language_info": {
   "codemirror_mode": {
    "name": "ipython",
    "version": 3
   },
   "file_extension": ".py",
   "mimetype": "text/x-python",
   "name": "python",
   "nbconvert_exporter": "python",
   "pygments_lexer": "ipython3",
   "version": "3.9.13"
  }
 },
 "nbformat": 4,
 "nbformat_minor": 5
}
