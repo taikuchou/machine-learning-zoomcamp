{
 "cells": [
  {
   "cell_type": "code",
   "execution_count": 1,
   "id": "a71569a0-d113-4bb3-90ca-f6566aa2b329",
   "metadata": {},
   "outputs": [],
   "source": [
    "import pandas as pd\n",
    "import numpy as np"
   ]
  },
  {
   "cell_type": "code",
   "execution_count": 2,
   "id": "89dd85c4-14b3-480f-b851-3c161ad8e1e5",
   "metadata": {},
   "outputs": [],
   "source": [
    "#!wget https://raw.githubusercontent.com/alexeygrigorev/datasets/master/laptops.csv"
   ]
  },
  {
   "cell_type": "markdown",
   "id": "11441f20-e609-4465-b099-40982702ad6c",
   "metadata": {},
   "source": [
    "### Preparing the dataset"
   ]
  },
  {
   "cell_type": "code",
   "execution_count": 3,
   "id": "a1e07e8f-c40c-4a3d-ad74-114049f0480d",
   "metadata": {},
   "outputs": [],
   "source": [
    "df = pd.read_csv('laptops.csv')"
   ]
  },
  {
   "cell_type": "code",
   "execution_count": 4,
   "id": "33b07c7d-e2ad-4019-836f-c7ba23f1a61d",
   "metadata": {},
   "outputs": [],
   "source": [
    "df.columns = df.columns.str.lower().str.replace(' ', '_')"
   ]
  },
  {
   "cell_type": "code",
   "execution_count": 5,
   "id": "aa6b97f3-4f14-4252-9456-4a16d86fb8aa",
   "metadata": {},
   "outputs": [
    {
     "data": {
      "text/plain": [
       "Index(['laptop', 'status', 'brand', 'model', 'cpu', 'ram', 'storage',\n",
       "       'storage_type', 'gpu', 'screen', 'touch', 'final_price'],\n",
       "      dtype='object')"
      ]
     },
     "execution_count": 5,
     "metadata": {},
     "output_type": "execute_result"
    }
   ],
   "source": [
    "df.columns"
   ]
  },
  {
   "cell_type": "code",
   "execution_count": 6,
   "id": "ac0bfe40-4540-44a7-ae70-94c09d749462",
   "metadata": {},
   "outputs": [],
   "source": [
    "# df.dtypes"
   ]
  },
  {
   "cell_type": "code",
   "execution_count": 7,
   "id": "68037028-54ed-40f3-b676-bbb53172bcb9",
   "metadata": {},
   "outputs": [],
   "source": [
    "import matplotlib.pyplot as plt\n",
    "import seaborn as sns\n",
    "\n",
    "%matplotlib inline"
   ]
  },
  {
   "cell_type": "markdown",
   "id": "0bd38177-3ed7-4038-9e75-d30cc8724287",
   "metadata": {},
   "source": [
    "### EDA\n",
    "### Look at the final_price variable. Does it have a long tail?"
   ]
  },
  {
   "cell_type": "code",
   "execution_count": 8,
   "id": "5ec5e8c9-d8c3-46e6-989f-3d0b69b2ef47",
   "metadata": {},
   "outputs": [
    {
     "data": {
      "image/png": "[encoded data removed]",
      "text/plain": [
       "<Figure size 640x480 with 1 Axes>"
      ]
     },
     "metadata": {},
     "output_type": "display_data"
    }
   ],
   "source": [
    "sns.histplot(df.final_price)\n",
    "plt.show()"
   ]
  },
  {
   "cell_type": "code",
   "execution_count": 9,
   "id": "fe2a6b04-f394-4909-9823-617c7d8f7e53",
   "metadata": {},
   "outputs": [],
   "source": [
    "# sns.histplot(df.final_price[df.final_price < 5000], bins=50)\n",
    "# plt.show()"
   ]
  },
  {
   "cell_type": "code",
   "execution_count": 10,
   "id": "36859d5f-7eb9-4d2e-8e58-81b997daf531",
   "metadata": {},
   "outputs": [],
   "source": [
    "price_logs = np.log1p(df.final_price)"
   ]
  },
  {
   "cell_type": "code",
   "execution_count": 11,
   "id": "8a6a05db-5ccb-4d2b-a148-2850a059e70c",
   "metadata": {},
   "outputs": [
    {
     "data": {
      "image/png": "[encoded data removed]",
      "text/plain": [
       "<Figure size 640x480 with 1 Axes>"
      ]
     },
     "metadata": {},
     "output_type": "display_data"
    }
   ],
   "source": [
    "sns.histplot(price_logs)\n",
    "plt.show()"
   ]
  },
  {
   "cell_type": "markdown",
   "id": "71779e94-4754-45e7-8a7c-056de4e55523",
   "metadata": {},
   "source": [
    "### Question 1\n",
    "#### What's the median (50% percentile) for variable 'ram'?\n"
   ]
  },
  {
   "cell_type": "code",
   "execution_count": 12,
   "id": "81547d8f-7fac-453b-9030-b05030ed1138",
   "metadata": {
    "scrolled": true
   },
   "outputs": [
    {
     "data": {
      "text/plain": [
       "storage_type      42\n",
       "gpu             1371\n",
       "screen             4\n",
       "dtype: int64"
      ]
     },
     "execution_count": 12,
     "metadata": {},
     "output_type": "execute_result"
    }
   ],
   "source": [
    "missing_columns = df.isnull().sum()\n",
    "columns_with_missing_values = missing_columns[missing_columns > 0]\n",
    "columns_with_missing_values"
   ]
  },
  {
   "cell_type": "code",
   "execution_count": 13,
   "id": "d2c83365-cc82-40b2-9639-55dc7e6a72bc",
   "metadata": {},
   "outputs": [],
   "source": [
    "# for col in df.columns:\n",
    "    # print(col)\n",
    "    # print(df[col].unique()[:5])\n",
    "    # print(df[col].nunique())\n",
    "    # print()"
   ]
  },
  {
   "cell_type": "markdown",
   "id": "feec0cbf-9252-4ec8-8745-63c2464085b7",
   "metadata": {},
   "source": [
    "### Question 2\n",
    "#### What's the median (50% percentile) for variable 'ram'?"
   ]
  },
  {
   "cell_type": "code",
   "execution_count": 14,
   "id": "ab38193f-ddf3-4e9e-9b81-7654a6df8866",
   "metadata": {},
   "outputs": [
    {
     "data": {
      "text/plain": [
       "15.6"
      ]
     },
     "execution_count": 14,
     "metadata": {},
     "output_type": "execute_result"
    }
   ],
   "source": [
    "screen_m = df[\"screen\"].median()\n",
    "screen_m"
   ]
  },
  {
   "cell_type": "markdown",
   "id": "3a14e5f2-6676-497c-887c-c187358545ce",
   "metadata": {},
   "source": [
    "### Prepare and split the dataset"
   ]
  },
  {
   "cell_type": "code",
   "execution_count": 15,
   "id": "06f2245e-f0cc-4dcb-9c72-0922dc4cb9fc",
   "metadata": {},
   "outputs": [
    {
     "data": {
      "text/plain": [
       "2160"
      ]
     },
     "execution_count": 15,
     "metadata": {},
     "output_type": "execute_result"
    }
   ],
   "source": [
    "n = len(df)\n",
    "n_val = int(n * 0.2)\n",
    "n_test = int(n * 0.2)\n",
    "n_train = n - n_val - n_test\n",
    "n"
   ]
  },
  {
   "cell_type": "code",
   "execution_count": 16,
   "id": "eef77029-0dce-4053-a9ff-e76b81e6370d",
   "metadata": {},
   "outputs": [
    {
     "data": {
      "text/plain": [
       "(1296, 432, 432)"
      ]
     },
     "execution_count": 16,
     "metadata": {},
     "output_type": "execute_result"
    }
   ],
   "source": [
    "n_train,n_val,n_test"
   ]
  },
  {
   "cell_type": "code",
   "execution_count": 17,
   "id": "4aee390e-d318-4af1-81a3-6cca49928bed",
   "metadata": {},
   "outputs": [],
   "source": [
    "def prepare_dataset(n,seed):\n",
    "    idx = np.arange(n)\n",
    "    np.random.seed(seed)\n",
    "    np.random.shuffle(idx)\n",
    "    df_train = df.iloc[idx[:n_train]].copy()\n",
    "    df_val = df.iloc[idx[n_train:n_train+n_val]].copy()\n",
    "    df_test = df.iloc[idx[n_train+n_val:]].copy()\n",
    "    df_train = df_train.reset_index(drop=True)\n",
    "    df_val = df_val.reset_index(drop=True)\n",
    "    df_test = df_test.reset_index(drop=True)\n",
    "    # y_train = np.log1p(df_train.final_price.values)\n",
    "    # y_val = np.log1p(df_val.final_price.values)\n",
    "    # y_test = np.log1p(df_test.final_price.values)\n",
    "    y_train = (df_train.final_price.values)\n",
    "    y_val = (df_val.final_price.values)\n",
    "    y_test = (df_test.final_price.values)\n",
    "    return df_train, df_val, df_test, y_train, y_val, y_test"
   ]
  },
  {
   "cell_type": "code",
   "execution_count": 18,
   "id": "af2eb411-1cd9-465a-9219-6504c3049632",
   "metadata": {},
   "outputs": [],
   "source": [
    "df_train, df_val, df_test, y_train, y_val, y_test = prepare_dataset(n,42)"
   ]
  },
  {
   "cell_type": "code",
   "execution_count": 19,
   "id": "40fee745-6bc9-4cf4-b3cb-bffb66745276",
   "metadata": {},
   "outputs": [
    {
     "data": {
      "text/plain": [
       "(1296, 432, 432, 1296, 432, 432)"
      ]
     },
     "execution_count": 19,
     "metadata": {},
     "output_type": "execute_result"
    }
   ],
   "source": [
    "len(df_train), len(df_val), len(df_test),len(y_train), len(y_val), len(y_test)"
   ]
  },
  {
   "cell_type": "code",
   "execution_count": 20,
   "id": "2b6e37a1-0f50-421f-b215-4613c3ef1285",
   "metadata": {},
   "outputs": [],
   "source": [
    "# del df_train['final_price']\n",
    "# del df_val['final_price']\n",
    "# del df_test['final_price']"
   ]
  },
  {
   "cell_type": "markdown",
   "id": "19897323-fb2c-4af7-81b1-193f80f5b278",
   "metadata": {},
   "source": [
    "### Q3"
   ]
  },
  {
   "cell_type": "code",
   "execution_count": 21,
   "id": "676aa44f-bb75-4ac3-a0a3-f63c6fffdf9d",
   "metadata": {},
   "outputs": [],
   "source": [
    "base = ['ram', 'screen', 'storage']"
   ]
  },
  {
   "cell_type": "code",
   "execution_count": 22,
   "id": "20e791da-2175-45fa-b596-ad5ec40cc21d",
   "metadata": {},
   "outputs": [],
   "source": [
    "def prepare_X(df,fillval = 0):\n",
    "    df_num = df[base]\n",
    "    df_num = df_num.fillna(fillval)\n",
    "    X = df_num.values\n",
    "    return X"
   ]
  },
  {
   "cell_type": "code",
   "execution_count": 23,
   "id": "347df02d-9d59-4f24-8fb5-402adbe06752",
   "metadata": {},
   "outputs": [],
   "source": [
    "def train_linear_regression(X, y, r=0):\n",
    "    ones = np.ones(X.shape[0])\n",
    "    X = np.column_stack([ones, X])\n",
    "\n",
    "    XTX = X.T.dot(X)\n",
    "    XTX_inv = np.linalg.inv(XTX)\n",
    "    w_full = XTX_inv.dot(X.T).dot(y)\n",
    "    \n",
    "    return w_full[0], w_full[1:]"
   ]
  },
  {
   "cell_type": "code",
   "execution_count": 24,
   "id": "c6a9bc8a-1787-4544-8438-9c2102811908",
   "metadata": {},
   "outputs": [],
   "source": [
    "def rmse(y, y_pred):\n",
    "    se = (y - y_pred) ** 2\n",
    "    mse = se.mean()\n",
    "    return np.sqrt(mse)"
   ]
  },
  {
   "cell_type": "code",
   "execution_count": 25,
   "id": "44176e81-9876-462e-9f26-c6257290c521",
   "metadata": {},
   "outputs": [],
   "source": [
    "X_train = prepare_X(df_train)"
   ]
  },
  {
   "cell_type": "code",
   "execution_count": 26,
   "id": "f3731f3a-ccbb-4780-b08e-d749a626322c",
   "metadata": {},
   "outputs": [
    {
     "data": {
      "text/plain": [
       "597.36"
      ]
     },
     "execution_count": 26,
     "metadata": {},
     "output_type": "execute_result"
    }
   ],
   "source": [
    "w0, w = train_linear_regression(X_train, y_train)\n",
    "X_val = prepare_X(df_val)\n",
    "y_pred = w0 + X_val.dot(w)\n",
    "val = rmse(y_val, y_pred)\n",
    "round(val, 2)"
   ]
  },
  {
   "cell_type": "code",
   "execution_count": 27,
   "id": "83677229-41da-4120-988e-76cb8b26403e",
   "metadata": {},
   "outputs": [
    {
     "data": {
      "text/plain": [
       "597.73"
      ]
     },
     "execution_count": 27,
     "metadata": {},
     "output_type": "execute_result"
    }
   ],
   "source": [
    "X_train = prepare_X(df_train,screen_m)\n",
    "w0, w = train_linear_regression(X_train, y_train)\n",
    "X_val = prepare_X(df_val)\n",
    "y_pred = w0 + X_val.dot(w)\n",
    "val = rmse(y_val, y_pred)\n",
    "round(val, 2)"
   ]
  },
  {
   "cell_type": "markdown",
   "id": "c2ce463c-6a99-41ae-b7ed-34403983691c",
   "metadata": {},
   "source": [
    "### Q4"
   ]
  },
  {
   "cell_type": "code",
   "execution_count": 28,
   "id": "a1d2057e-185f-43df-a3d4-07a57c965f53",
   "metadata": {},
   "outputs": [],
   "source": [
    "def train_linear_regression_reg(X, y, r=0.001):\n",
    "    ones = np.ones(X.shape[0])\n",
    "    X = np.column_stack([ones, X])\n",
    "\n",
    "    XTX = X.T.dot(X)\n",
    "    XTX = XTX + r * np.eye(XTX.shape[0])\n",
    "\n",
    "    XTX_inv = np.linalg.inv(XTX)\n",
    "    w_full = XTX_inv.dot(X.T).dot(y)\n",
    "    \n",
    "    return w_full[0], w_full[1:]"
   ]
  },
  {
   "cell_type": "code",
   "execution_count": 29,
   "id": "ddca6ce0-cad2-4772-be47-dc9f3d31b261",
   "metadata": {},
   "outputs": [],
   "source": [
    "rlist = [0, 0.01, 0.1, 1, 5, 10, 100]"
   ]
  },
  {
   "cell_type": "code",
   "execution_count": 30,
   "id": "8d118348-038b-4280-a557-2b0d42e862a8",
   "metadata": {},
   "outputs": [
    {
     "name": "stdout",
     "output_type": "stream",
     "text": [
      "0\t>>> 597.36,\n",
      "0.01\t>>> 597.36,\n",
      "0.1\t>>> 597.35,\n",
      "1\t>>> 597.21,\n",
      "5\t>>> 597.01,\n",
      "10\t>>> 597.06,\n",
      "100\t>>> 597.9,\n"
     ]
    }
   ],
   "source": [
    "#X_train = prepare_X(df_train)\n",
    "for i in range(len(rlist)):\n",
    "    X_train = prepare_X(df_train)\n",
    "    w0, w = train_linear_regression_reg(X_train, y_train, r=rlist[i])\n",
    "    X_val = prepare_X(df_val)\n",
    "    y_pred = w0 + X_val.dot(w)\n",
    "    val = rmse(y_val, y_pred)\n",
    "    print('{}\\t>>> {},'.format(rlist[i], round(val,2)))\n"
   ]
  },
  {
   "cell_type": "markdown",
   "id": "98ec8bcd-b99a-4420-a44c-b88b9768009c",
   "metadata": {},
   "source": [
    "### Q5"
   ]
  },
  {
   "cell_type": "code",
   "execution_count": 31,
   "id": "4fbd612e-7aa5-4a92-8dca-66c885c99de7",
   "metadata": {},
   "outputs": [],
   "source": [
    "def showImages(y_val,y_pred):\n",
    "    sns.histplot(y_pred, color='red', alpha=0.5, bins=50)\n",
    "    sns.histplot(y_val, color='blue', alpha=0.5, bins=50)\n",
    "    plt.show()"
   ]
  },
  {
   "cell_type": "code",
   "execution_count": 32,
   "id": "881e2fe1-1031-4c91-ab6c-80fb42a1641f",
   "metadata": {},
   "outputs": [],
   "source": [
    "seed_vals = [0, 1, 2, 3, 4, 5, 6, 7, 8, 9]"
   ]
  },
  {
   "cell_type": "code",
   "execution_count": 33,
   "id": "5536a41f-a7ec-46af-9e53-4fb1a4d6ed00",
   "metadata": {},
   "outputs": [],
   "source": [
    "scores = []\n",
    "for i in range(len(seed_vals)):\n",
    "    df_train, df_val, df_test, y_train, y_val, y_test = prepare_dataset(n,i)\n",
    "    X_train = prepare_X(df_train)\n",
    "    w0, w = train_linear_regression(X_train, y_train)\n",
    "    X_val = prepare_X(df_val)\n",
    "    y_pred = w0 + X_val.dot(w)\n",
    "    val = rmse(y_val, y_pred)\n",
    "    # showImages(y_val,y_pred)\n",
    "    scores.append(val)"
   ]
  },
  {
   "cell_type": "code",
   "execution_count": 34,
   "id": "5dc8d102-519b-4f27-aaf1-5f44455ebf0b",
   "metadata": {},
   "outputs": [
    {
     "data": {
      "text/plain": [
       "29.176"
      ]
     },
     "execution_count": 34,
     "metadata": {},
     "output_type": "execute_result"
    }
   ],
   "source": [
    "round(np.std(scores),3)"
   ]
  },
  {
   "cell_type": "markdown",
   "id": "1312756a-946b-4bea-ab56-0f3446df10f0",
   "metadata": {},
   "source": [
    "### Q6"
   ]
  },
  {
   "cell_type": "code",
   "execution_count": 35,
   "id": "5840589a-0cfc-4404-88cd-cdad855e3b38",
   "metadata": {},
   "outputs": [
    {
     "data": {
      "text/plain": [
       "608.61"
      ]
     },
     "execution_count": 35,
     "metadata": {},
     "output_type": "execute_result"
    }
   ],
   "source": [
    "# df_train, df_val, df_test, y_train, y_val, y_test = prepare_dataset(n,9)\n",
    "df_full_train = pd.concat([df_train, df_val])\n",
    "df_full_train = df_full_train.reset_index(drop=True)\n",
    "y_full_train = np.concatenate([y_train, y_val])\n",
    "X_train = prepare_X(df_full_train)\n",
    "w0, w = train_linear_regression_reg(X_train, y_full_train)\n",
    "X_test = prepare_X(df_test)\n",
    "y_pred = w0 + X_test.dot(w)\n",
    "val = rmse(y_test, y_pred)\n",
    "round(val,3)\n",
    "# showImages(y_test,y_pred)"
   ]
  },
  {
   "cell_type": "code",
   "execution_count": 36,
   "id": "e675c6f0-1bd8-4182-b160-1e40b46e7f32",
   "metadata": {},
   "outputs": [],
   "source": [
    "# sns.histplot(y_pred, label='prediction', color='red', alpha=0.5, bins=50)\n",
    "# sns.histplot(y_test, label='target', color='blue',  alpha=0.5, bins=50)\n",
    "# plt.show()"
   ]
  },
  {
   "cell_type": "code",
   "execution_count": 37,
   "id": "85933800-56bc-4236-8637-0383c1e2893f",
   "metadata": {},
   "outputs": [],
   "source": [
    "from sklearn.linear_model import LinearRegression\n",
    "from sklearn.metrics import mean_squared_error"
   ]
  },
  {
   "cell_type": "code",
   "execution_count": 38,
   "id": "61376fa3-abe2-4a0f-8bc9-ccc4096f9526",
   "metadata": {},
   "outputs": [],
   "source": [
    "# rmse_scores = []\n",
    "# for i in range(len(seed_vals)):\n",
    "#     df_train, df_val, df_test, y_train, y_val, y_test = prepare_dataset(n,i)\n",
    "#     X_train = prepare_X(df_train)\n",
    "#     model = LinearRegression()\n",
    "#     model.fit(X_train, y_train)\n",
    "#     X_val = prepare_X(df_val)\n",
    "#     y_pred_val = model.predict(X_val)\n",
    "#     mse = mean_squared_error(y_val, y_pred_val)\n",
    "#     if mse >= 0:\n",
    "#         rmse_val = np.sqrt(mse)\n",
    "#         rmse_scores.append(rmse_val)\n",
    "#     else:\n",
    "#         print(f\"Encountered negative MSE for seed {seed}. Skipping RMSE calculation.\")"
   ]
  },
  {
   "cell_type": "code",
   "execution_count": 39,
   "id": "cbb3a059-b8ee-4332-824b-2d7c2c48f741",
   "metadata": {},
   "outputs": [],
   "source": [
    "# rmse_scores"
   ]
  },
  {
   "cell_type": "code",
   "execution_count": 40,
   "id": "2b9b9ad4-6756-4adf-8037-963371b17d24",
   "metadata": {},
   "outputs": [],
   "source": [
    "# if rmse_scores:\n",
    "#     rmse_std = np.std(rmse_scores)\n",
    "#     rmse_std = round(rmse_std, 3)\n",
    "#     print(f\"RMSE scores for different seeds: {rmse_scores}\")\n",
    "#     print(f\"Standard deviation of RMSE scores: {rmse_std}\")\n",
    "# else:\n",
    "#     print(\"No valid RMSE scores to calculate the standard deviation.\")"
   ]
  },
  {
   "cell_type": "code",
   "execution_count": 41,
   "id": "919660c8-3753-4eec-8be8-4c48268d2574",
   "metadata": {},
   "outputs": [],
   "source": [
    "from sklearn.linear_model import Ridge\n",
    "from sklearn.metrics import mean_squared_error"
   ]
  },
  {
   "cell_type": "code",
   "execution_count": 42,
   "id": "e46e3a84-4856-4b20-9f3b-e858d8315999",
   "metadata": {},
   "outputs": [],
   "source": [
    "# df_train, df_val, df_test, y_train, y_val, y_test = prepare_dataset(n,9)\n",
    "# df_full_train = pd.concat([df_train, df_val])\n",
    "# df_full_train = df_full_train.reset_index(drop=True)\n",
    "# y_full_train = np.concatenate([y_train, y_val])\n",
    "# X_train = prepare_X(df_full_train)\n",
    "# X_test = prepare_X(df_test)\n",
    "# ridge_model = Ridge(alpha=0.001)  # alpha is the regularization strength in Ridge regression\n",
    "# ridge_model.fit(X_train, y_full_train)\n",
    "\n",
    "# # Step 5: Predict on the test dataset and calculate RMSE\n",
    "# y_pred_test = ridge_model.predict(X_test)\n",
    "# rmse_test = np.sqrt(mean_squad_error(y_test, y_pred_test))\n",
    "\n",
    "# # Round the RMSE to 2 decimal places\n",
    "# rmse_test = round(rmse_test, 2)\n",
    "\n",
    "# # Output the RMSE on the test dataset\n",
    "# print(f\"RMSE on the test dataset: {rmse_test}\")"
   ]
  },
  {
   "cell_type": "code",
   "execution_count": 43,
   "id": "69faa76d-6415-4aa6-93ad-7d9606b42bbb",
   "metadata": {},
   "outputs": [],
   "source": [
    "# for i in range(len(rlist)):\n",
    "#     df_train, df_val, df_test, y_train, y_val, y_test = prepare_dataset(n,i)\n",
    "#     X_train = prepare_X(df_train)\n",
    "#     ridge_model = Ridge(alpha=rlist[i])  # alpha is the regularization strength in Ridge regression\n",
    "#     ridge_model.fit(X_train, y_train)\n",
    "#     X_val = prepare_X(df_val)\n",
    "#     y_pred = ridge_model.predict(X_val)\n",
    "#     rmse = np.sqrt(mean_squared_error(y_val, y_pred))\n",
    "#     print('{}\\t>>> {},'.format(rlist[i], round(rmse,2)))"
   ]
  },
  {
   "cell_type": "code",
   "execution_count": null,
   "id": "da4e8140-ecd8-462c-80c9-4af8cba1e2b3",
   "metadata": {},
   "outputs": [],
   "source": []
  }
 ],
 "metadata": {
  "kernelspec": {
   "display_name": "Python 3 (ipykernel)",
   "language": "python",
   "name": "python3"
  },
  "language_info": {
   "codemirror_mode": {
    "name": "ipython",
    "version": 3
   },
   "file_extension": ".py",
   "mimetype": "text/x-python",
   "name": "python",
   "nbconvert_exporter": "python",
   "pygments_lexer": "ipython3",
   "version": "3.11.9"
  }
 },
 "nbformat": 4,
 "nbformat_minor": 5
}
