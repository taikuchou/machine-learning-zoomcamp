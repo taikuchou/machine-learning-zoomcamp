{
 "cells": [
  {
   "cell_type": "markdown",
   "id": "d1ff32dc-5bd1-45ba-bc82-8edfe34c602d",
   "metadata": {},
   "source": [
    "## Question 1"
   ]
  },
  {
   "cell_type": "markdown",
   "id": "24bd3f8d-945c-4f13-b35a-7fb5231e1f2e",
   "metadata": {},
   "source": [
    "- Install Pipenv\n",
    "- What's the version of pipenv you installed?\n",
    "- Use --version to find out"
   ]
  },
  {
   "cell_type": "code",
   "execution_count": 1,
   "id": "499c7442-9b2b-4a5f-88a2-329d41c29ee4",
   "metadata": {},
   "outputs": [
    {
     "name": "stdout",
     "output_type": "stream",
     "text": [
      "Collecting pipenv\n",
      "  Using cached pipenv-2024.1.0-py3-none-any.whl.metadata (19 kB)\n",
      "Requirement already satisfied: certifi in /opt/anaconda3/envs/ml-zoomcamp/lib/python3.11/site-packages (from pipenv) (2024.8.30)\n",
      "Requirement already satisfied: packaging>=22 in /opt/anaconda3/envs/ml-zoomcamp/lib/python3.11/site-packages (from pipenv) (24.1)\n",
      "Requirement already satisfied: setuptools>=67 in /opt/anaconda3/envs/ml-zoomcamp/lib/python3.11/site-packages (from pipenv) (72.1.0)\n",
      "Collecting virtualenv>=20.24.2 (from pipenv)\n",
      "  Using cached virtualenv-20.27.0-py3-none-any.whl.metadata (4.5 kB)\n",
      "Collecting distlib<1,>=0.3.7 (from virtualenv>=20.24.2->pipenv)\n",
      "  Using cached distlib-0.3.9-py2.py3-none-any.whl.metadata (5.2 kB)\n",
      "Collecting filelock<4,>=3.12.2 (from virtualenv>=20.24.2->pipenv)\n",
      "  Downloading filelock-3.16.1-py3-none-any.whl.metadata (2.9 kB)\n",
      "Requirement already satisfied: platformdirs<5,>=3.9.1 in /opt/anaconda3/envs/ml-zoomcamp/lib/python3.11/site-packages (from virtualenv>=20.24.2->pipenv) (3.10.0)\n",
      "Using cached pipenv-2024.1.0-py3-none-any.whl (3.0 MB)\n",
      "Using cached virtualenv-20.27.0-py3-none-any.whl (3.1 MB)\n",
      "Using cached distlib-0.3.9-py2.py3-none-any.whl (468 kB)\n",
      "Downloading filelock-3.16.1-py3-none-any.whl (16 kB)\n",
      "Installing collected packages: distlib, filelock, virtualenv, pipenv\n",
      "Successfully installed distlib-0.3.9 filelock-3.16.1 pipenv-2024.1.0 virtualenv-20.27.0\n"
     ]
    }
   ],
   "source": [
    "!pip install pipenv"
   ]
  },
  {
   "cell_type": "code",
   "execution_count": 2,
   "id": "13d5a404-57ec-4163-beab-528c5ccc3ca6",
   "metadata": {},
   "outputs": [
    {
     "name": "stdout",
     "output_type": "stream",
     "text": [
      "\u001b[1mpipenv\u001b[0m, version 2024.1.0\n"
     ]
    }
   ],
   "source": [
    "!pipenv  --version"
   ]
  },
  {
   "cell_type": "markdown",
   "id": "451bf88b-a2bf-4a0c-87a4-75f516b03c7a",
   "metadata": {},
   "source": [
    "## Question 2"
   ]
  },
  {
   "cell_type": "markdown",
   "id": "1909fd0c-9e7f-417c-9896-c25e1f8d4525",
   "metadata": {},
   "source": [
    "- Use Pipenv to install Scikit-Learn version 1.5.2\n",
    "- What's the first hash for scikit-learn you get in Pipfile.lock?"
   ]
  },
  {
   "cell_type": "code",
   "execution_count": 5,
   "id": "145a1247-7c99-493e-8410-0b49c4806535",
   "metadata": {},
   "outputs": [
    {
     "name": "stdout",
     "output_type": "stream",
     "text": [
      "\u001b[1;32mInstalling scikit-learn==1.5.2...\u001b[0m\n",
      "\u001b[?25lResolving scikit-learn==1.5.2...\n",
      "\u001b[2K\u001b[1mAdded \u001b[0m\u001b[1;32mscikit-learn\u001b[0m to Pipfile's \u001b[33m[packages]\u001b[0m ...\n",
      "\u001b[2K✔ Installation Succeeded-learn...\n",
      "\u001b[2K\u001b[32m⠋\u001b[0m Installing scikit-learn...\n",
      "\u001b[1A\u001b[2K\u001b[1mPipfile.lock not found, creating\u001b[0m\u001b[1;33m...\u001b[0m\n",
      "Locking\u001b[0m \u001b[33m[packages]\u001b[0m dependencies...\u001b[0m\n",
      "\u001b[?25lBuilding requirements...\n",
      "\u001b[2KResolving dependencies....\n",
      "\u001b[2K✔ Success! Locking packages...\n",
      "\u001b[2K\u001b[32m⠧\u001b[0m Locking packages...\n",
      "\u001b[1A\u001b[2KLocking\u001b[0m \u001b[33m[dev-packages]\u001b[0m dependencies...\u001b[0m\n",
      "\u001b[1mUpdated Pipfile.lock (da9944f49a102baddf89fee85c44b4cf5c70ad335a979024b4cc6bb511344639)!\u001b[0m\n",
      "To activate this project's virtualenv, run \u001b[33mpipenv shell\u001b[0m.\n",
      "Alternatively, run a command inside the virtualenv with \u001b[33mpipenv run\u001b[0m.\n",
      "\u001b[1mInstalling dependencies from Pipfile.lock (344639)...\u001b[0m\n"
     ]
    }
   ],
   "source": [
    "!pipenv install scikit-learn==1.5.2 "
   ]
  },
  {
   "cell_type": "code",
   "execution_count": 20,
   "id": "a3bbac5d-91d7-4007-a4ca-dbaadcd404b9",
   "metadata": {},
   "outputs": [
    {
     "data": {
      "text/plain": [
       "'sha256:03b6158efa3faaf1feea3faa884c840ebd61b6484167c711548fce208ea09445'"
      ]
     },
     "execution_count": 20,
     "metadata": {},
     "output_type": "execute_result"
    }
   ],
   "source": [
    "import json\n",
    "with open('Pipfile.lock','r') as file:\n",
    "    y = json.loads(file.read())\n",
    "y.keys()#['_meta', 'default', 'develop']\n",
    "y['default']['scikit-learn']['hashes'][0]\n",
    "\n"
   ]
  },
  {
   "cell_type": "markdown",
   "id": "86d43a38-2a48-4979-9db9-c5b10c2a26fe",
   "metadata": {},
   "source": [
    "## Models\n",
    "- We've prepared a dictionary vectorizer and a model."
   ]
  },
  {
   "cell_type": "code",
   "execution_count": 11,
   "id": "8a57ae2e-9c64-42f0-825e-2feec6f6b1b9",
   "metadata": {},
   "outputs": [],
   "source": [
    "# PREFIX='https://raw.githubusercontent.com/DataTalksClub/machine-learning-zoomcamp/master/cohorts/2024/05-deployment/homework'\n",
    "# !wget $PREFIX/model1.bin\n",
    "# !wget $PREFIX/dv.bin"
   ]
  },
  {
   "cell_type": "markdown",
   "id": "69bbda6b-0e2f-4774-b8cf-16e102d63b04",
   "metadata": {},
   "source": [
    "## Question 3\n",
    "- Let's use these models!\n",
    "- Write a script for loading these models with pickle\n",
    "- Score this client:\n",
    "{\"job\": \"management\", \"duration\": 400, \"poutcome\": \"success\"}\n",
    "\n",
    "What's the probability that this client will get a subscription?"
   ]
  },
  {
   "cell_type": "code",
   "execution_count": 10,
   "id": "46fe2e4c-b1ff-45d4-bec1-1c0f9688c96a",
   "metadata": {},
   "outputs": [],
   "source": [
    "import pickle"
   ]
  },
  {
   "cell_type": "code",
   "execution_count": 12,
   "id": "539f0b25-1a29-4bb4-93bc-4fdc00f5da86",
   "metadata": {},
   "outputs": [],
   "source": [
    "def readFile(fileName):\n",
    "    with open(fileName, 'rb') as f_in:\n",
    "        result = pickle.load(f_in)\n",
    "        return result"
   ]
  },
  {
   "cell_type": "code",
   "execution_count": 14,
   "id": "b6a277a1-8fe0-4aeb-bfe4-1adb33daa413",
   "metadata": {},
   "outputs": [
    {
     "name": "stderr",
     "output_type": "stream",
     "text": [
      "/opt/anaconda3/envs/ml-zoomcamp/lib/python3.11/site-packages/sklearn/base.py:376: InconsistentVersionWarning: Trying to unpickle estimator LogisticRegression from version 1.5.2 when using version 1.5.1. This might lead to breaking code or invalid results. Use at your own risk. For more info please refer to:\n",
      "https://scikit-learn.org/stable/model_persistence.html#security-maintainability-limitations\n",
      "  warnings.warn(\n"
     ]
    },
    {
     "data": {
      "text/plain": [
       "(DictVectorizer(sparse=False), LogisticRegression(max_iter=250))"
      ]
     },
     "execution_count": 14,
     "metadata": {},
     "output_type": "execute_result"
    }
   ],
   "source": [
    "dv = readFile('dv.bin')\n",
    "model = readFile('model1.bin')\n",
    "dv, model"
   ]
  },
  {
   "cell_type": "code",
   "execution_count": 18,
   "id": "468f143c-9fb2-4ceb-8cbf-7c0f8f0ef1cb",
   "metadata": {},
   "outputs": [],
   "source": [
    "def predict(client):\n",
    "    X = dv.transform([client])\n",
    "    y_pred = model.predict_proba(X)[0, 1]\n",
    "    subscription = y_pred >= 0.5\n",
    "    result = {\n",
    "        'subscription_probability': float(y_pred),\n",
    "        'subscription': bool(subscription)\n",
    "    }\n",
    "    return result"
   ]
  },
  {
   "cell_type": "code",
   "execution_count": 23,
   "id": "dd9c0f72-f59e-4311-b90f-83dce284f685",
   "metadata": {},
   "outputs": [
    {
     "name": "stdout",
     "output_type": "stream",
     "text": [
      "The probability that this client will get a subscription is 0.759\n"
     ]
    }
   ],
   "source": [
    "client = {\"job\": \"management\", \"duration\": 400, \"poutcome\": \"success\"}\n",
    "pred = predict(client)\n",
    "print('The probability that this client will get a subscription is', round(pred['subscription_probability'],3))"
   ]
  },
  {
   "cell_type": "markdown",
   "id": "16766137-5747-42da-85c8-2c5d7c2b9e7b",
   "metadata": {},
   "source": [
    "## Question 4"
   ]
  },
  {
   "cell_type": "markdown",
   "id": "a579acf6-a4fc-43b9-bfcf-8d4ab3d69538",
   "metadata": {},
   "source": [
    "- Now let's serve this model as a web service\n",
    "- Install Flask and gunicorn (or waitress, if you're on Windows)\n",
    "- Write Flask code for serving the model\n",
    "- Now score this client using requests:\n",
    " \n",
    "url = \"YOUR_URL\"\n",
    "\n",
    "client = {\"job\": \"student\", \"duration\": 280, \"poutcome\": \"failure\"}\n",
    "\n",
    "requests.post(url, json=client).json()\n",
    "\n",
    "What's the probability that this client will get a subscription?"
   ]
  },
  {
   "cell_type": "code",
   "execution_count": 24,
   "id": "f80cefb0-cc55-4c05-9872-181176785428",
   "metadata": {},
   "outputs": [
    {
     "name": "stdout",
     "output_type": "stream",
     "text": [
      "\u001b[1;32mInstalling gunicorn...\u001b[0m\n",
      "\u001b[?25lResolving gunicorn...\n",
      "\u001b[2K\u001b[1mAdded \u001b[0m\u001b[1;32mgunicorn\u001b[0m to Pipfile's \u001b[33m[packages]\u001b[0m ...\n",
      "\u001b[2K✔ Installation Succeededrn...\n",
      "\u001b[2K\u001b[32m⠋\u001b[0m Installing gunicorn...\n",
      "\u001b[1A\u001b[2K\u001b[1;32mInstalling flask...\u001b[0m\n",
      "\u001b[?25lResolving flask...\n",
      "\u001b[2K\u001b[1mAdded \u001b[0m\u001b[1;32mflask\u001b[0m to Pipfile's \u001b[33m[packages]\u001b[0m ...\n",
      "\u001b[2K✔ Installation Succeeded..\n",
      "\u001b[2K\u001b[32m⠋\u001b[0m Installing flask...\n",
      "\u001b[1A\u001b[2K\u001b[1;33mPipfile.lock \u001b[0m\u001b[1;33m(\u001b[0m\u001b[1;36m344639\u001b[0m\u001b[1;33m)\u001b[0m\u001b[1;33m out of date: run `pipenv lock` to update to \u001b[0m\u001b[1;33m(\u001b[0m\u001b[1;33me9a4ba\u001b[0m\u001b[1;33m)\u001b[0m\u001b[1;33m...\u001b[0m\n",
      "\u001b[1mRunning\u001b[0m \u001b[33m\u001b[1m$ pipenv lock\u001b[0m \u001b[1mthen\u001b[0m \u001b[33m\u001b[1m$ pipenv sync\u001b[0m\u001b[1m.\u001b[0m\n",
      "Locking\u001b[0m \u001b[33m[packages]\u001b[0m dependencies...\u001b[0m\n",
      "\u001b[?25lBuilding requirements...\n",
      "\u001b[2KResolving dependencies....\n",
      "\u001b[2K✔ Success! Locking packages...\n",
      "\u001b[2K\u001b[32m⠏\u001b[0m Locking packages...\n",
      "\u001b[1A\u001b[2KLocking\u001b[0m \u001b[33m[dev-packages]\u001b[0m dependencies...\u001b[0m\n",
      "\u001b[1mUpdated Pipfile.lock (6fd94f91a4060b80f41c67ff15e839d7243ed7c1db1292edd7ee88420fe9a4ba)!\u001b[0m\n",
      "To activate this project's virtualenv, run \u001b[33mpipenv shell\u001b[0m.\n",
      "Alternatively, run a command inside the virtualenv with \u001b[33mpipenv run\u001b[0m.\n",
      "\u001b[1mInstalling dependencies from Pipfile.lock (e9a4ba)...\u001b[0m\n",
      "\u001b[32mAll dependencies are now up-to-date!\u001b[0m\n",
      "To activate this project's virtualenv, run \u001b[33mpipenv shell\u001b[0m.\n",
      "Alternatively, run a command inside the virtualenv with \u001b[33mpipenv run\u001b[0m.\n",
      "\u001b[1mInstalling dependencies from Pipfile.lock (e9a4ba)...\u001b[0m\n"
     ]
    }
   ],
   "source": [
    "!pipenv install gunicorn flask"
   ]
  },
  {
   "cell_type": "code",
   "execution_count": null,
   "id": "9ed9d795-4365-40ef-95f3-c2f9b800dcc9",
   "metadata": {},
   "outputs": [],
   "source": [
    "# !pipenv run gunicorn --bind 0.0.0:9696 hw5_predict:app"
   ]
  },
  {
   "cell_type": "code",
   "execution_count": 25,
   "id": "d2b96642-80d8-456c-9d4e-5e26ed0c11a1",
   "metadata": {},
   "outputs": [
    {
     "name": "stdout",
     "output_type": "stream",
     "text": [
      "{'subscription': False, 'subscription_probability': 0.33480703475511053}\n",
      "The probability that this client will get a subscription is 0.335\n"
     ]
    }
   ],
   "source": [
    "!python hw5_predict-test.py "
   ]
  },
  {
   "cell_type": "markdown",
   "id": "c368bf15-18ae-4cd2-843b-2e582dc279a7",
   "metadata": {},
   "source": [
    "## Question 5\n",
    "\n",
    "what's the size of this base image?"
   ]
  },
  {
   "cell_type": "code",
   "execution_count": 27,
   "id": "7b4e19f7-3b81-4f8a-8b52-b7a253a28b02",
   "metadata": {},
   "outputs": [
    {
     "name": "stdout",
     "output_type": "stream",
     "text": [
      "REPOSITORY              TAG           IMAGE ID       CREATED        SIZE\n",
      "svizor/zoomcamp-model   3.11.5-slim   975e7bdca086   2 days ago     130MB\n",
      "adminer                 latest        168b2a15a2c8   3 months ago   243MB\n",
      "mariadb                 10.8.3        e3f8da7eeabb   2 years ago    301MB\n"
     ]
    }
   ],
   "source": [
    "!docker images"
   ]
  },
  {
   "cell_type": "markdown",
   "id": "8994ae7f-2c6e-4d9c-a4ed-fffc1b9a8595",
   "metadata": {},
   "source": [
    "## Question 6"
   ]
  },
  {
   "cell_type": "code",
   "execution_count": 28,
   "id": "b01b667e-d506-4003-b150-4b6339164d97",
   "metadata": {},
   "outputs": [
    {
     "name": "stdout",
     "output_type": "stream",
     "text": [
      "The history saving thread hit an unexpected error (OperationalError('attempt to write a readonly database')).History will not be written to the database.\n",
      "{'subscription': True, 'subscription_probability': 0.7590966516879658}\n",
      "The probability that this client will get a subscription is 0.759\n"
     ]
    }
   ],
   "source": [
    "!python hw5_q6_predict-test.py "
   ]
  },
  {
   "cell_type": "code",
   "execution_count": null,
   "id": "0eb17c42-c51d-4df1-aedf-a94b29246110",
   "metadata": {},
   "outputs": [],
   "source": []
  }
 ],
 "metadata": {
  "kernelspec": {
   "display_name": "Python 3 (ipykernel)",
   "language": "python",
   "name": "python3"
  },
  "language_info": {
   "codemirror_mode": {
    "name": "ipython",
    "version": 3
   },
   "file_extension": ".py",
   "mimetype": "text/x-python",
   "name": "python",
   "nbconvert_exporter": "python",
   "pygments_lexer": "ipython3",
   "version": "3.11.9"
  }
 },
 "nbformat": 4,
 "nbformat_minor": 5
}
