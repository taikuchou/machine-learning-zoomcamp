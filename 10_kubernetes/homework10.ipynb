{
  "cells": [
    {
      "cell_type": "markdown",
      "id": "5e92a11c",
      "metadata": {
        "id": "5e92a11c"
      },
      "source": [
        "\n",
        "\n",
        "\n",
        "## Building the image\n",
        "\n",
        "Clone the course repo if you haven't:\n",
        "\n",
        "```\n",
        "git clone https://github.com/DataTalksClub/machine-learning-zoomcamp.git\n",
        "```\n",
        "\n",
        "Go to the `course-zoomcamp/cohorts/2024/05-deployment/homework` folder and\n",
        "execute the following:\n",
        "\n",
        "\n",
        "```bash\n",
        "docker build -t zoomcamp-model:3.11.5-hw10 .\n",
        "```\n",
        "\n",
        "> **Note:** If you have troubles building the image, you can\n",
        "> use the image we built and published to docker hub:\n",
        "> `docker pull svizor/zoomcamp-model:3.11.5-hw10`\n",
        "\n",
        "\n",
        "## Question 1\n",
        "\n",
        "Run it to test that it's working locally:\n",
        "\n",
        "```bash\n",
        "docker run -it --rm -p 9696:9696 zoomcamp-model:3.11.5-hw10\n",
        "```\n",
        "\n",
        "And in another terminal, execute `q6_test.py` file:\n",
        "\n",
        "```bash\n",
        "python q6_test.py\n",
        "```\n",
        "\n",
        "You should see this:\n",
        "\n",
        "```python\n",
        "{'has_subscribed': True, 'has_subscribed_probability': <value>}\n",
        "```\n",
        "\n",
        "Here `<value>` is the probability of getting a subscription. You need to choose the right one.\n",
        "\n",
        "* 0.757\n",
        "\n",
        "\n",
        "\n"
      ]
    },
    {
      "cell_type": "markdown",
      "source": [
        "Now you can stop the container running in Docker.\n",
        "\n",
        "\n",
        "## Installing `kubectl` and `kind`\n",
        "\n",
        "You need to install:\n",
        "\n",
        "* `kubectl` - https://kubernetes.io/docs/tasks/tools/ (you might already have it - check before installing)\n",
        "* `kind` - https://kind.sigs.k8s.io/docs/user/quick-start/"
      ],
      "metadata": {
        "id": "Cw1jX5eKaE1Z"
      },
      "id": "Cw1jX5eKaE1Z"
    },
    {
      "cell_type": "markdown",
      "source": [
        "## Question 2\n",
        "\n",
        "What's the version of `kind` that you have?\n",
        "\n",
        "Use `kind --version` to find out.\n",
        "\n",
        "**0.25.0**\n"
      ],
      "metadata": {
        "id": "1yXeb6M8aTTl"
      },
      "id": "1yXeb6M8aTTl"
    },
    {
      "cell_type": "markdown",
      "source": [
        "## Creating a cluster\n",
        "\n",
        "---\n",
        "\n",
        "\n",
        "\n",
        "Now let's create a cluster with `kind`:\n",
        "\n",
        "```bash\n",
        "kind create cluster\n",
        "```\n",
        "\n",
        "And check with `kubectl` that it was successfully created:\n",
        "\n",
        "```bash\n",
        "kubectl cluster-info\n",
        "```"
      ],
      "metadata": {
        "id": "FR1BHnoedY6G"
      },
      "id": "FR1BHnoedY6G"
    },
    {
      "cell_type": "markdown",
      "source": [
        "## Question 3\n",
        "\n",
        "What's the smallest deployable computing unit that we can create and manage\n",
        "in Kubernetes (`kind` in our case)?\n",
        "\n",
        "**Pod**"
      ],
      "metadata": {
        "id": "y-hROTLbd29m"
      },
      "id": "y-hROTLbd29m"
    },
    {
      "cell_type": "markdown",
      "source": [
        "## Question 4\n",
        "\n",
        "Now let's test if everything works. Use `kubectl` to get the list of running services.\n",
        "\n",
        "What's the `Type` of the service that is already running there?\n",
        "\n",
        "\n",
        "**ClusterIP**\n",
        "\n",
        "```bash\n",
        "kubectl get services\n",
        "```\n",
        "\n",
        "```bash\n",
        "NAME         TYPE        CLUSTER-IP   EXTERNAL-IP   PORT(S)   AGE\n",
        "kubernetes   ClusterIP   10.96.0.1    <none>        443/TCP   3m53s\n",
        "```"
      ],
      "metadata": {
        "id": "wlEqzM4CePb2"
      },
      "id": "wlEqzM4CePb2"
    },
    {
      "cell_type": "markdown",
      "source": [
        "##Question 5\n",
        "\n",
        "To be able to use the docker image we previously created (zoomcamp-model:3.11.5-hw10), we need to register it with kind.\n",
        "\n",
        "What's the command we need to run for that?\n",
        "\n",
        "**kind load docker-image**\n",
        "\n",
        "```bash\n",
        "kind load docker-image zoomcamp-model:3.11.5-hw10\n",
        "```"
      ],
      "metadata": {
        "id": "46azirCYf8rS"
      },
      "id": "46azirCYf8rS"
    },
    {
      "cell_type": "markdown",
      "source": [
        "## Question 6\n",
        "\n",
        "Now let's create a deployment config (e.g. `deployment.yaml`):\n",
        "\n",
        "```yaml\n",
        "apiVersion: apps/v1\n",
        "kind: Deployment\n",
        "metadata:\n",
        "  name: subscription\n",
        "spec:\n",
        "  selector:\n",
        "    matchLabels:\n",
        "      app: subscription\n",
        "  replicas: 1\n",
        "  template:\n",
        "    metadata:\n",
        "      labels:\n",
        "        app: subscription\n",
        "    spec:\n",
        "      containers:\n",
        "      - name: subscription\n",
        "        image: zoomcamp-model:3.11.5-hw10\n",
        "        resources:\n",
        "          requests:\n",
        "            memory: \"64Mi\"\n",
        "            cpu: \"100m\"            \n",
        "          limits:\n",
        "            memory: \"128Mi\"\n",
        "            cpu: \"200m\"\n",
        "        ports:\n",
        "        - containerPort: 9696\n",
        "```\n",
        "\n",
        "```bash\n",
        "kubectl apply -f deployment.yaml\n",
        "```\n",
        "**Correct &ltport&gt; :9696**\n",
        "\n",
        "```bash\n",
        "kubectl get deployments\n",
        "```\n",
        "```\n",
        "NAME           READY   UP-TO-DATE   AVAILABLE   AGE\n",
        "subscription   1/1     1            1           12s\n",
        "```\n",
        "\n",
        "```bash\n",
        "kubectl get pods\n",
        "```\n",
        "\n",
        "```\n",
        "NAME                            READY   STATUS    RESTARTS   AGE\n",
        "subscription-544b4f9664-c5z5s   1/1     Running   0          25s\n",
        "```"
      ],
      "metadata": {
        "id": "jjw7oqLwgW1O"
      },
      "id": "jjw7oqLwgW1O"
    },
    {
      "cell_type": "markdown",
      "source": [
        "##Question 7\n",
        "\n",
        "Let's create a service for this deployment (service.yaml):\n",
        "\n",
        "```\n",
        "apiVersion: v1\n",
        "kind: Service\n",
        "metadata:\n",
        "  name: subscription-service\n",
        "spec:\n",
        "  type: LoadBalancer\n",
        "  selector:\n",
        "    app: subscription\n",
        "  ports:\n",
        "  - port: 80\n",
        "    targetPort: 9696\n",
        "\n",
        "```\n",
        "**Correct &lt;???&gt; : subscription**"
      ],
      "metadata": {
        "id": "kQUfOfhNkWpd"
      },
      "id": "kQUfOfhNkWpd"
    },
    {
      "cell_type": "markdown",
      "source": [
        "##Testing the service\n",
        "\n",
        "\n",
        "```\n",
        "kubectl apply -f service.yaml\n",
        "```\n",
        "\n",
        "```\n",
        "kubectl get services\n",
        "```\n",
        "\n",
        "```\n",
        "NAME                   TYPE           CLUSTER-IP     EXTERNAL-IP   PORT(S)        AGE\n",
        "kubernetes             ClusterIP      10.96.0.1      <none>        443/TCP        37m\n",
        "subscription-service   LoadBalancer   10.96.25.159   <pending>     80:30117/TCP   11s\n",
        "```\n",
        "\n",
        "Can NOT be terminated\n",
        "```\n",
        "kubectl port-forward service/subscription-service 9696:80\n",
        "```\n",
        "\n",
        "```\n",
        "Forwarding from 127.0.0.1:9696 -> 9696\n",
        "Forwarding from [::1]:9696 -> 9696\n",
        "Handling connection for 9696\n",
        "```\n",
        "\n",
        "```\n",
        "python q6_test.py\n",
        "{'has_subscribed': True, 'has_subscribed_probability': 0.756743795240796}\n",
        "```\n"
      ],
      "metadata": {
        "id": "ULsaE88Nl8GC"
      },
      "id": "ULsaE88Nl8GC"
    },
    {
      "cell_type": "markdown",
      "source": [
        "## Autoscaling\n",
        "\n",
        "Use the following command to create the HPA:\n",
        "\n",
        "```bash\n",
        "kubectl autoscale deployment subscription --name subscription-hpa --cpu-percent=20 --min=1 --max=3\n",
        "```\n",
        "\n",
        "You can check the current status of the new HPA by running:\n",
        "```\n",
        "kubectl get hpa\n",
        "```\n",
        "\n",
        "```\n",
        "kubectl apply -f https://github.com/kubernetes-sigs/metrics-server/releases/latest/download/components.yaml\n",
        "```"
      ],
      "metadata": {
        "id": "hEq20z6LnefS"
      },
      "id": "hEq20z6LnefS"
    },
    {
      "cell_type": "markdown",
      "source": [
        "Let's see how the autoscaler reacts to increasing the load. To do this, we can slightly modify the existing `q6_test.py` script by putting the operator that sends the request to the subscription service into a loop.\n",
        "\n",
        "```\n",
        "while True:\n",
        "    sleep(0.1)\n",
        "    response = requests.post(url, json=client).json()\n",
        "    print(response)\n",
        "```"
      ],
      "metadata": {
        "id": "9JSZ2pYQp9el"
      },
      "id": "9JSZ2pYQp9el"
    },
    {
      "cell_type": "markdown",
      "source": [
        "## Question 8 (optional)\n",
        "Run `kubectl get hpa subscription-hpa --watch` command to monitor how the autoscaler performs. Within a minute or so, you should see the higher CPU load; and then - more replicas. What was the maximum amount of the replicas during this test?\n",
        "\n",
        "**1**"
      ],
      "metadata": {
        "id": "n3q4L46qp5eg"
      },
      "id": "n3q4L46qp5eg"
    }
  ],
  "metadata": {
    "colab": {
      "provenance": []
    }
  },
  "nbformat": 4,
  "nbformat_minor": 5
}